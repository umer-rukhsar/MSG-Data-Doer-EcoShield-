{
 "cells": [
  {
   "cell_type": "code",
   "execution_count": null,
   "id": "9afc5d9b-e96f-4ea5-8dd6-d90b762b0385",
   "metadata": {},
   "outputs": [],
   "source": [
    "import pandas as pd\n",
    "import numpy as np\n",
    "from sklearn.model_selection import train_test_split\n",
    "from sklearn.preprocessing import LabelEncoder, StandardScaler\n",
    "from sklearn.svm import SVR\n",
    "from sklearn.metrics import mean_squared_error, r2_score\n"
   ]
  },
  {
   "cell_type": "code",
   "execution_count": null,
   "id": "d9f7182a-b496-41c8-ab0a-fd8cde3cc2ee",
   "metadata": {},
   "outputs": [],
   "source": [
    "# Load your dataset\n",
    "df = pd.read_csv('yield_df.csv', index_col=0, delimiter=';')\n",
    "\n",
    "# Separate features and target variable\n",
    "X = df.drop(columns=['hg/ha_yield'])  # Features\n",
    "y = df['hg/ha_yield']  # Target (yield)"
   ]
  },
  {
   "cell_type": "code",
   "execution_count": null,
   "id": "3adf9b37-1924-46bb-a586-dbcc802407eb",
   "metadata": {},
   "outputs": [],
   "source": [
    "# Encode categorical variables (Area, Item)\n",
    "label_encoder = LabelEncoder()\n",
    "X['Area'] = label_encoder.fit_transform(X['Area'])\n",
    "X['Item'] = label_encoder.fit_transform(X['Item'])\n"
   ]
  },
  {
   "cell_type": "code",
   "execution_count": null,
   "id": "1eacb939-cb20-4fcc-9f73-33ae8fd11f5c",
   "metadata": {},
   "outputs": [],
   "source": [
    "# Split data into training and testing sets\n",
    "X_train, X_test, y_train, y_test = train_test_split(X, y, test_size=0.2, random_state=42)"
   ]
  },
  {
   "cell_type": "code",
   "execution_count": null,
   "id": "2b562e5e-c987-49c7-a6e2-7e94eef6ff7e",
   "metadata": {},
   "outputs": [],
   "source": [
    "# Standardize the numerical features using StandardScaler\n",
    "scaler = StandardScaler()\n",
    "X_train_scaled = scaler.fit_transform(X_train)\n",
    "X_test_scaled = scaler.transform(X_test)"
   ]
  },
  {
   "cell_type": "code",
   "execution_count": null,
   "id": "73625186-0b9d-416b-af62-700bb0d6d6f1",
   "metadata": {},
   "outputs": [],
   "source": [
    "# Initialize the Support Vector Regressor model\n",
    "svr_model = SVR(kernel='rbf')  # Using the RBF kernel (default)"
   ]
  },
  {
   "cell_type": "code",
   "execution_count": null,
   "id": "62f42901-273b-4408-ab37-7d629aa65946",
   "metadata": {},
   "outputs": [],
   "source": [
    "# Train the model on the scaled training data\n",
    "svr_model.fit(X_train_scaled, y_train)"
   ]
  },
  {
   "cell_type": "code",
   "execution_count": null,
   "id": "b6869dd1-3980-4eae-9a77-05b2432b643e",
   "metadata": {},
   "outputs": [],
   "source": [
    "# Make predictions on the test data\n",
    "y_pred = svr_model.predict(X_test_scaled)"
   ]
  },
  {
   "cell_type": "code",
   "execution_count": null,
   "id": "0e995bda-b1c3-4709-b063-413eba4fb259",
   "metadata": {},
   "outputs": [],
   "source": [
    "# Evaluate the model's performance\n",
    "mse = mean_squared_error(y_test, y_pred)\n",
    "r2 = r2_score(y_test, y_pred)"
   ]
  },
  {
   "cell_type": "code",
   "execution_count": null,
   "id": "c52cea94-ac3b-4b38-911b-f9f2272743a4",
   "metadata": {},
   "outputs": [],
   "source": [
    "print(f\"Mean Squared Error (MSE): {mse}\")\n",
    "print(f\"R-squared Score (R2): {r2}\")"
   ]
  },
  {
   "cell_type": "code",
   "execution_count": null,
   "id": "f9b5f2dc-2733-4d48-8203-e81e045aba9e",
   "metadata": {},
   "outputs": [],
   "source": [
    "# Example new data\n",
    "new_data = {\n",
    "    'Area': ['India'],  # Example new area\n",
    "    'Item': ['Wheat'],  # Example new crop\n",
    "    'Year': [2025],\n",
    "    'average_rain_fall_mm_per_year': [700],\n",
    "    'pesticides_tonnes': [40],\n",
    "    'avg_temp': [23]\n",
    "}"
   ]
  },
  {
   "cell_type": "code",
   "execution_count": null,
   "id": "bd2df886-5f86-42cc-9041-8f384e11b2f5",
   "metadata": {},
   "outputs": [],
   "source": [
    "# Convert new data into DataFrame\n",
    "new_data_df = pd.DataFrame(new_data)"
   ]
  },
  {
   "cell_type": "code",
   "execution_count": null,
   "id": "75120287-40e7-4feb-9af4-8c6fa01e43e5",
   "metadata": {},
   "outputs": [],
   "source": [
    "# Handle unseen labels in new data\n",
    "def handle_unseen_labels(data, encoder, column_name):\n",
    "    for val in data[column_name]:\n",
    "        if val not in encoder.classes_:\n",
    "            encoder.classes_ = np.append(encoder.classes_, val)\n",
    "    return encoder.transform(data[column_name])"
   ]
  },
  {
   "cell_type": "code",
   "execution_count": null,
   "id": "c6b75994-59e3-444a-9355-9d26ae14753e",
   "metadata": {},
   "outputs": [],
   "source": [
    "# Encode the categorical variables in new data using the fitted label encoder\n",
    "new_data_df['Area'] = handle_unseen_labels(new_data_df, label_encoder, 'Area')\n",
    "new_data_df['Item'] = handle_unseen_labels(new_data_df, label_encoder, 'Item')\n"
   ]
  },
  {
   "cell_type": "code",
   "execution_count": null,
   "id": "f4ef0d83-4c91-4ccb-99af-842db1dc4d10",
   "metadata": {},
   "outputs": [],
   "source": [
    "# Standardize the new input data using the fitted scaler\n",
    "new_data_scaled = scaler.transform(new_data_df)"
   ]
  },
  {
   "cell_type": "code",
   "execution_count": null,
   "id": "fa989fac-a33f-470f-83a4-fa68cb394251",
   "metadata": {},
   "outputs": [],
   "source": [
    "# Make predictions using the trained SVR model\n",
    "predicted_yield = svr_model.predict(new_data_scaled)"
   ]
  },
  {
   "cell_type": "code",
   "execution_count": null,
   "id": "0c39117f-3f11-4bce-874d-34a0b85271d0",
   "metadata": {},
   "outputs": [],
   "source": [
    "print(f\"Predicted Yield (hg/ha): {predicted_yield[0]}\")"
   ]
  },
  {
   "cell_type": "code",
   "execution_count": null,
   "id": "c3f3cac6-63ba-45fe-83d0-06ccfd79ecd4",
   "metadata": {},
   "outputs": [],
   "source": []
  }
 ],
 "metadata": {
  "kernelspec": {
   "display_name": "Python 3 (ipykernel)",
   "language": "python",
   "name": "python3"
  },
  "language_info": {
   "codemirror_mode": {
    "name": "ipython",
    "version": 3
   },
   "file_extension": ".py",
   "mimetype": "text/x-python",
   "name": "python",
   "nbconvert_exporter": "python",
   "pygments_lexer": "ipython3",
   "version": "3.12.4"
  }
 },
 "nbformat": 4,
 "nbformat_minor": 5
}
